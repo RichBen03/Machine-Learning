{
  "nbformat": 4,
  "nbformat_minor": 0,
  "metadata": {
    "colab": {
      "provenance": [],
      "authorship_tag": "ABX9TyNvdiKGcSz93OcSa5jCkKTe",
      "include_colab_link": true
    },
    "kernelspec": {
      "name": "python3",
      "display_name": "Python 3"
    },
    "language_info": {
      "name": "python"
    }
  },
  "cells": [
    {
      "cell_type": "markdown",
      "metadata": {
        "id": "view-in-github",
        "colab_type": "text"
      },
      "source": [
        "<a href=\"https://colab.research.google.com/github/RichBen03/Machine-Learning/blob/main/crime_rate.ipynb\" target=\"_parent\"><img src=\"https://colab.research.google.com/assets/colab-badge.svg\" alt=\"Open In Colab\"/></a>"
      ]
    },
    {
      "cell_type": "code",
      "execution_count": 1,
      "metadata": {
        "id": "7K-CzpN1Xp07"
      },
      "outputs": [],
      "source": [
        "import kagglehub"
      ]
    },
    {
      "cell_type": "code",
      "source": [
        "# Download latest version\n",
        "path = kagglehub.dataset_download(\"kaggle/san-francisco-crime-classification\")\n",
        "print(\"Path to dataset files:\", path)\n"
      ],
      "metadata": {
        "colab": {
          "base_uri": "https://localhost:8080/"
        },
        "id": "TDJCE9EWXycb",
        "outputId": "da399f06-25ff-4086-b903-bd3f874b2c1d"
      },
      "execution_count": 2,
      "outputs": [
        {
          "output_type": "stream",
          "name": "stdout",
          "text": [
            "Downloading from https://www.kaggle.com/api/v1/datasets/download/kaggle/san-francisco-crime-classification?dataset_version_number=2...\n"
          ]
        },
        {
          "output_type": "stream",
          "name": "stderr",
          "text": [
            "100%|██████████| 41.3M/41.3M [00:00<00:00, 193MB/s]"
          ]
        },
        {
          "output_type": "stream",
          "name": "stdout",
          "text": [
            "Extracting files...\n"
          ]
        },
        {
          "output_type": "stream",
          "name": "stderr",
          "text": [
            "\n"
          ]
        },
        {
          "output_type": "stream",
          "name": "stdout",
          "text": [
            "Path to dataset files: /root/.cache/kagglehub/datasets/kaggle/san-francisco-crime-classification/versions/2\n"
          ]
        }
      ]
    },
    {
      "cell_type": "code",
      "source": [
        "import pandas as pd\n",
        "import os"
      ],
      "metadata": {
        "id": "dwEfHILTX28m"
      },
      "execution_count": 3,
      "outputs": []
    },
    {
      "cell_type": "code",
      "source": [
        "data_path = os.path.join(path, \"train.csv\")\n",
        "df = pd.read_csv(data_path)"
      ],
      "metadata": {
        "id": "yt5WC4kVX9A-"
      },
      "execution_count": 4,
      "outputs": []
    },
    {
      "cell_type": "code",
      "source": [
        "# Information abiut the data set\n",
        "print(df.describe())\n",
        "print(df.info())"
      ],
      "metadata": {
        "colab": {
          "base_uri": "https://localhost:8080/"
        },
        "id": "B5j9m_huYDLh",
        "outputId": "5feae931-edbf-438d-bbfe-6b81c830f0ce"
      },
      "execution_count": 5,
      "outputs": [
        {
          "output_type": "stream",
          "name": "stdout",
          "text": [
            "                   X              Y\n",
            "count  878049.000000  878049.000000\n",
            "mean     -122.422616      37.771020\n",
            "std         0.030354       0.456893\n",
            "min      -122.513642      37.707879\n",
            "25%      -122.432952      37.752427\n",
            "50%      -122.416420      37.775421\n",
            "75%      -122.406959      37.784369\n",
            "max      -120.500000      90.000000\n",
            "<class 'pandas.core.frame.DataFrame'>\n",
            "RangeIndex: 878049 entries, 0 to 878048\n",
            "Data columns (total 9 columns):\n",
            " #   Column      Non-Null Count   Dtype  \n",
            "---  ------      --------------   -----  \n",
            " 0   Dates       878049 non-null  object \n",
            " 1   Category    878049 non-null  object \n",
            " 2   Descript    878049 non-null  object \n",
            " 3   DayOfWeek   878049 non-null  object \n",
            " 4   PdDistrict  878049 non-null  object \n",
            " 5   Resolution  878049 non-null  object \n",
            " 6   Address     878049 non-null  object \n",
            " 7   X           878049 non-null  float64\n",
            " 8   Y           878049 non-null  float64\n",
            "dtypes: float64(2), object(7)\n",
            "memory usage: 60.3+ MB\n",
            "None\n"
          ]
        }
      ]
    },
    {
      "cell_type": "code",
      "source": [
        "# Check for missing values in the dataset\n",
        "print(df.isnull().sum())"
      ],
      "metadata": {
        "colab": {
          "base_uri": "https://localhost:8080/"
        },
        "id": "2nKNvfg6Yfow",
        "outputId": "9c1ca6e5-bbc2-4990-e23c-b322c632ff79"
      },
      "execution_count": 6,
      "outputs": [
        {
          "output_type": "stream",
          "name": "stdout",
          "text": [
            "Dates         0\n",
            "Category      0\n",
            "Descript      0\n",
            "DayOfWeek     0\n",
            "PdDistrict    0\n",
            "Resolution    0\n",
            "Address       0\n",
            "X             0\n",
            "Y             0\n",
            "dtype: int64\n"
          ]
        }
      ]
    },
    {
      "cell_type": "markdown",
      "source": [
        "Data Preprocessing Stage"
      ],
      "metadata": {
        "id": "eWqxi22lZFFW"
      }
    },
    {
      "cell_type": "code",
      "source": [
        "# Step 3: Data Preprocessing using sklearn\n",
        "from sklearn.preprocessing import LabelEncoder, StandardScaler"
      ],
      "metadata": {
        "id": "5XfLn7rAYvRN"
      },
      "execution_count": 7,
      "outputs": []
    },
    {
      "cell_type": "code",
      "source": [
        "le_category = LabelEncoder()\n",
        "le_day = LabelEncoder()\n",
        "le_district = LabelEncoder()"
      ],
      "metadata": {
        "id": "0paVk3FgZL1O"
      },
      "execution_count": 8,
      "outputs": []
    },
    {
      "cell_type": "code",
      "source": [
        "df['Category'] = le_category.fit_transform(df['Category'])\n",
        "df['DayOfWeek'] = le_day.fit_transform(df['DayOfWeek'])\n",
        "df['PdDistrict'] = le_district.fit_transform(df['PdDistrict'])"
      ],
      "metadata": {
        "id": "Kj7uCk2xZW9A"
      },
      "execution_count": 9,
      "outputs": []
    },
    {
      "cell_type": "markdown",
      "source": [
        "Feature Scaling"
      ],
      "metadata": {
        "id": "t8fB2JKqZcBs"
      }
    },
    {
      "cell_type": "code",
      "source": [
        "# Feature matrix\n",
        "features = df[['Category', 'DayOfWeek', 'PdDistrict', 'X', 'Y']]"
      ],
      "metadata": {
        "id": "SLT8NbaAZf2J"
      },
      "execution_count": 10,
      "outputs": []
    },
    {
      "cell_type": "code",
      "source": [
        "scaler = StandardScaler()\n",
        "scaled_features = scaler.fit_transform(features)"
      ],
      "metadata": {
        "id": "fH_QUHteZk9h"
      },
      "execution_count": 12,
      "outputs": []
    },
    {
      "cell_type": "markdown",
      "source": [
        "Necessary **libraries**"
      ],
      "metadata": {
        "id": "B4BKNwe6criB"
      }
    },
    {
      "cell_type": "code",
      "source": [
        "import matplotlib.pyplot as plt\n",
        "from sklearn.cluster import KMeans"
      ],
      "metadata": {
        "id": "BbNBuyUVZp88"
      },
      "execution_count": 13,
      "outputs": []
    },
    {
      "cell_type": "markdown",
      "source": [
        "KMeans Clustering"
      ],
      "metadata": {
        "id": "o-fVVKfVc0vN"
      }
    },
    {
      "cell_type": "code",
      "source": [
        "inertia = []\n",
        "k_range = range(1, 11)"
      ],
      "metadata": {
        "id": "ggq0gOfbZu76"
      },
      "execution_count": 15,
      "outputs": []
    },
    {
      "cell_type": "code",
      "source": [
        "for k in k_range:\n",
        "    kmeans = KMeans(n_clusters=k, random_state=42)\n",
        "    kmeans.fit(scaled_features)\n",
        "    inertia.append(kmeans.inertia_)"
      ],
      "metadata": {
        "id": "toXxY2o1Z26J"
      },
      "execution_count": 16,
      "outputs": []
    },
    {
      "cell_type": "markdown",
      "source": [
        "## Elbow Curve"
      ],
      "metadata": {
        "id": "mqI07uzvbv6V"
      }
    },
    {
      "cell_type": "code",
      "source": [
        "# Plot elbow curve\n",
        "plt.figure(figsize=(8, 4))\n",
        "plt.plot(k_range, inertia, marker='o')\n",
        "plt.title('Elbow Method for Optimal k')\n",
        "plt.xlabel('Number of clusters (k)')\n",
        "plt.ylabel('Inertia')\n",
        "plt.grid(True)\n",
        "plt.show()\n"
      ],
      "metadata": {
        "colab": {
          "base_uri": "https://localhost:8080/",
          "height": 410
        },
        "id": "mxGk58epZ-J7",
        "outputId": "db06cbe9-ff3b-4824-bbcf-c3de6d18ed34"
      },
      "execution_count": 17,
      "outputs": [
        {
          "output_type": "display_data",
          "data": {
            "text/plain": [
              "<Figure size 800x400 with 1 Axes>"
            ],
            "image/png": "[encoded data removed]"
          },
          "metadata": {}
        }
      ]
    },
    {
      "cell_type": "markdown",
      "source": [
        "# Applying K-Means Algorithm"
      ],
      "metadata": {
        "id": "jZMQ_DoGaW5_"
      }
    },
    {
      "cell_type": "code",
      "source": [
        "optimal_k = 5\n",
        "kmeans = KMeans(n_clusters=optimal_k, random_state=42)\n",
        "kmeans.fit(scaled_features)\n",
        "cluster_labels = kmeans.labels_\n"
      ],
      "metadata": {
        "id": "_ZKTJB7sajtj"
      },
      "execution_count": 18,
      "outputs": []
    },
    {
      "cell_type": "code",
      "source": [
        "df['Cluster'] = cluster_labels\n",
        "print(df[['Category', 'DayOfWeek', 'PdDistrict', 'Cluster']].head())"
      ],
      "metadata": {
        "colab": {
          "base_uri": "https://localhost:8080/"
        },
        "id": "5FB2QMP_apeX",
        "outputId": "b14a5e98-0aa1-4465-a73f-e0391744c543"
      },
      "execution_count": 19,
      "outputs": [
        {
          "output_type": "stream",
          "name": "stdout",
          "text": [
            "   Category  DayOfWeek  PdDistrict  Cluster\n",
            "0        37          6           4        2\n",
            "1        21          6           4        2\n",
            "2        21          6           4        2\n",
            "3        16          6           4        2\n",
            "4        16          6           5        2\n"
          ]
        }
      ]
    },
    {
      "cell_type": "markdown",
      "source": [
        "\n",
        "## Plotting cluster distribution using seaborn"
      ],
      "metadata": {
        "id": "FW_xP8gLbdPd"
      }
    },
    {
      "cell_type": "code",
      "source": [
        "import seaborn as sns\n",
        "\n",
        "# Plot cluster distribution\n",
        "plt.figure(figsize=(8, 5))\n",
        "sns.countplot(x='Cluster', data=df)\n",
        "plt.title('Cluster Distribution of Crimes')\n",
        "plt.xlabel('Cluster')\n",
        "plt.ylabel('Number of Records')\n",
        "plt.show()\n"
      ],
      "metadata": {
        "colab": {
          "base_uri": "https://localhost:8080/",
          "height": 487
        },
        "id": "EHBb0qQlausm",
        "outputId": "ccbf42e4-9ade-4338-e5b2-de45ab428be8"
      },
      "execution_count": 20,
      "outputs": [
        {
          "output_type": "display_data",
          "data": {
            "text/plain": [
              "<Figure size 800x500 with 1 Axes>"
            ],
            "image/png": "[encoded data removed]"
          },
          "metadata": {}
        }
      ]
    },
    {
      "cell_type": "markdown",
      "source": [
        "### Step 7: Model Evaluation"
      ],
      "metadata": {
        "id": "k6heyVaFbNDR"
      }
    },
    {
      "cell_type": "code",
      "source": [
        "import numpy as np\n",
        "\n",
        "# Step 7: Model Evaluation (with sampling)\n",
        "n_samples = 5000  # adjust as needed: 5000–10000 is usually plenty\n",
        "\n",
        "if len(scaled_features) > n_samples:\n",
        "    idx = np.random.choice(len(scaled_features), n_samples, replace=False)\n",
        "    sampled_features = scaled_features[idx]\n",
        "    sampled_labels = cluster_labels[idx]\n",
        "else:\n",
        "    sampled_features = scaled_features\n",
        "    sampled_labels = cluster_labels\n",
        "\n",
        "from sklearn.metrics import silhouette_score, davies_bouldin_score\n",
        "\n",
        "sil_score = silhouette_score(sampled_features, sampled_labels)\n",
        "db_score = davies_bouldin_score(sampled_features, sampled_labels)\n",
        "\n",
        "print(f\"Silhouette Score (sampled): {sil_score:.3f}\")\n",
        "print(f\"Davies-Bouldin Index (sampled): {db_score:.3f}\")\n"
      ],
      "metadata": {
        "colab": {
          "base_uri": "https://localhost:8080/"
        },
        "id": "h0vaBztTa0Pe",
        "outputId": "a9d69bf6-de15-4fcc-9870-cd56b4cc8173"
      },
      "execution_count": 23,
      "outputs": [
        {
          "output_type": "stream",
          "name": "stdout",
          "text": [
            "Silhouette Score (sampled): 0.195\n",
            "Davies-Bouldin Index (sampled): 1.105\n"
          ]
        }
      ]
    },
    {
      "cell_type": "code",
      "source": [],
      "metadata": {
        "id": "R9b5tQUad2xb"
      },
      "execution_count": null,
      "outputs": []
    }
  ]
}